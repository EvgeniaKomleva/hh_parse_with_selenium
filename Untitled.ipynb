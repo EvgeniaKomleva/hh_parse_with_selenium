{
 "cells": [
  {
   "cell_type": "code",
   "execution_count": 1,
   "metadata": {},
   "outputs": [
    {
     "data": {
      "text/html": [
       "<div>\n",
       "<style scoped>\n",
       "    .dataframe tbody tr th:only-of-type {\n",
       "        vertical-align: middle;\n",
       "    }\n",
       "\n",
       "    .dataframe tbody tr th {\n",
       "        vertical-align: top;\n",
       "    }\n",
       "\n",
       "    .dataframe thead th {\n",
       "        text-align: right;\n",
       "    }\n",
       "</style>\n",
       "<table border=\"1\" class=\"dataframe\">\n",
       "  <thead>\n",
       "    <tr style=\"text-align: right;\">\n",
       "      <th></th>\n",
       "      <th>title</th>\n",
       "      <th>href</th>\n",
       "      <th>last_work_place</th>\n",
       "      <th>match_count</th>\n",
       "      <th>all_jobs</th>\n",
       "      <th>citizenship</th>\n",
       "    </tr>\n",
       "  </thead>\n",
       "  <tbody>\n",
       "    <tr>\n",
       "      <th>0</th>\n",
       "      <td>Junior Frontend-разработчик</td>\n",
       "      <td>https://hh.ru/resume/07563c8f00082331ff0039ed1...</td>\n",
       "      <td>ЗАО Бизнес Технолоджи</td>\n",
       "      <td>0</td>\n",
       "      <td>['ЗАО Бизнес Технолоджи'  'Помощник программис...</td>\n",
       "      <td>Россия</td>\n",
       "    </tr>\n",
       "    <tr>\n",
       "      <th>1</th>\n",
       "      <td>Frontend developer</td>\n",
       "      <td>https://hh.ru/resume/66acffbd0003e82c2b0039ed1...</td>\n",
       "      <td>Glo Academy</td>\n",
       "      <td>2</td>\n",
       "      <td>['Glo Academy'  'JavaScript Developer (Учебные...</td>\n",
       "      <td>Россия</td>\n",
       "    </tr>\n",
       "    <tr>\n",
       "      <th>2</th>\n",
       "      <td>Security engineer</td>\n",
       "      <td>https://hh.ru/resume/c86ab9490007eabbe90039ed1...</td>\n",
       "      <td>Digital Security</td>\n",
       "      <td>0</td>\n",
       "      <td>['Digital Security'  'Стажер']</td>\n",
       "      <td>Россия</td>\n",
       "    </tr>\n",
       "    <tr>\n",
       "      <th>3</th>\n",
       "      <td>HTML-верстальщик</td>\n",
       "      <td>https://hh.ru/resume/1c3c282600081d97000039ed1...</td>\n",
       "      <td>Tранснефть</td>\n",
       "      <td>0</td>\n",
       "      <td>['Tранснефть'  'Младший аналитик']</td>\n",
       "      <td>Россия</td>\n",
       "    </tr>\n",
       "    <tr>\n",
       "      <th>4</th>\n",
       "      <td>Frontend-разработчик</td>\n",
       "      <td>https://hh.ru/resume/21f749bb00058c181b0039ed1...</td>\n",
       "      <td>Удаленная работа в США</td>\n",
       "      <td>2</td>\n",
       "      <td>['Удаленная работа в США'  'Frontend-разработч...</td>\n",
       "      <td>Россия</td>\n",
       "    </tr>\n",
       "  </tbody>\n",
       "</table>\n",
       "</div>"
      ],
      "text/plain": [
       "                         title  \\\n",
       "0  Junior Frontend-разработчик   \n",
       "1           Frontend developer   \n",
       "2            Security engineer   \n",
       "3             HTML-верстальщик   \n",
       "4         Frontend-разработчик   \n",
       "\n",
       "                                                href         last_work_place  \\\n",
       "0  https://hh.ru/resume/07563c8f00082331ff0039ed1...   ЗАО Бизнес Технолоджи   \n",
       "1  https://hh.ru/resume/66acffbd0003e82c2b0039ed1...             Glo Academy   \n",
       "2  https://hh.ru/resume/c86ab9490007eabbe90039ed1...        Digital Security   \n",
       "3  https://hh.ru/resume/1c3c282600081d97000039ed1...              Tранснефть   \n",
       "4  https://hh.ru/resume/21f749bb00058c181b0039ed1...  Удаленная работа в США   \n",
       "\n",
       "   match_count                                           all_jobs  citizenship  \n",
       "0            0  ['ЗАО Бизнес Технолоджи'  'Помощник программис...       Россия  \n",
       "1            2  ['Glo Academy'  'JavaScript Developer (Учебные...       Россия  \n",
       "2            0                     ['Digital Security'  'Стажер']       Россия  \n",
       "3            0                 ['Tранснефть'  'Младший аналитик']       Россия  \n",
       "4            2  ['Удаленная работа в США'  'Frontend-разработч...       Россия  "
      ]
     },
     "execution_count": 1,
     "metadata": {},
     "output_type": "execute_result"
    }
   ],
   "source": [
    "import pandas as pd\n",
    "data = pd.read_csv('data/data.csv')\n",
    "data.head()"
   ]
  },
  {
   "cell_type": "code",
   "execution_count": 2,
   "metadata": {},
   "outputs": [
    {
     "data": {
      "text/plain": [
       "Index(['title', 'href', 'last_work_place', 'match_count', 'all_jobs',\n",
       "       ' citizenship'],\n",
       "      dtype='object')"
      ]
     },
     "execution_count": 2,
     "metadata": {},
     "output_type": "execute_result"
    }
   ],
   "source": [
    "data.columns"
   ]
  },
  {
   "cell_type": "code",
   "execution_count": 1,
   "metadata": {},
   "outputs": [
    {
     "ename": "NameError",
     "evalue": "name 'data' is not defined",
     "output_type": "error",
     "traceback": [
      "\u001b[1;31m---------------------------------------------------------------------------\u001b[0m",
      "\u001b[1;31mNameError\u001b[0m                                 Traceback (most recent call last)",
      "\u001b[1;32m<ipython-input-1-7e32ff5cae61>\u001b[0m in \u001b[0;36m<module>\u001b[1;34m\u001b[0m\n\u001b[1;32m----> 1\u001b[1;33m \u001b[0mdata\u001b[0m\u001b[1;33m.\u001b[0m\u001b[0mhref\u001b[0m\u001b[1;33m\u001b[0m\u001b[1;33m\u001b[0m\u001b[0m\n\u001b[0m",
      "\u001b[1;31mNameError\u001b[0m: name 'data' is not defined"
     ]
    }
   ],
   "source": [
    "data.href"
   ]
  },
  {
   "cell_type": "code",
   "execution_count": null,
   "metadata": {},
   "outputs": [],
   "source": [
    "import pandas as pd\n",
    "import datetime\n",
    "from configparser import ConfigParser\n",
    "import sys\n",
    "import numpy as np\n",
    "import os\n",
    "\n",
    "file = str(sys.argv[1])  # 'java.ini'\n",
    "file_name = file[:-4]\n",
    "config = ConfigParser()\n",
    "config.read(file)\n",
    "auth_status = config['parametrs']['auth_status']  # int(input(\"Do you want login? (1-yes, null -no): \"))\n",
    "\n",
    "auth = ''\n",
    "if auth_status == '1':\n",
    "    auth = 'auth'\n",
    "    # print(\"OK\")\n",
    "current_datetime = str(datetime.datetime.now())\n",
    "time = str(datetime.datetime.now().time())\n",
    "time_str = time[0:2] + time[3:5]\n",
    "current_day = current_datetime[0:4] + current_datetime[5:7] + current_datetime[8:11] + time_str\n",
    "\n",
    "data = pd.read_csv('data/data.csv')\n",
    "data[\"href\"] = 'https://hh.ru' + data[\"href\"]\n",
    "count_company = data[\"last_work_place\"].value_counts()\n",
    "df_count_company = pd.DataFrame({'last_work_place': count_company.index, 'count': count_company.values})\n",
    "df_count_company = df_count_company[\n",
    "    df_count_company.last_work_place != 'Индивидуальное предпринимательство / частная практика / фриланс']\n",
    "df_count_company = df_count_company[df_count_company.last_work_place != 'фриланс']\n",
    "df_count_company = df_count_company[df_count_company.last_work_place != 'Фриланс']\n",
    "df_count_company = df_count_company[df_count_company.last_work_place != \"Freelance\"]\n",
    "df_count_company = df_count_company[df_count_company.last_work_place != \"-\"]\n",
    "\n",
    "df_count_company.to_csv('resume/{}_{}_count_company_{}.csv'.format(file_name, current_day, auth), sep=';', index=False,\n",
    "                        encoding='utf-8-sig')\n",
    "\n",
    "data_with_count = data.set_index('last_work_place').join(df_count_company.set_index('last_work_place'))\n",
    "sorted_data = data_with_count.sort_values(by=[\"count\"], ascending=False)\n",
    "sorted_data.drop([\"Индивидуальное предпринимательство / частная практика / фриланс\"], inplace=True, errors='ignore')\n",
    "sorted_data.drop([\"Фриланс\"], inplace=True, errors='ignore')\n",
    "sorted_data.drop([\"Freelance\"], inplace=True, errors='ignore')\n",
    "sorted_data.drop([\"фриланс\"], inplace=True, errors='ignore')\n",
    "\n",
    "sorted_data.reset_index(inplace=True)\n",
    "sorted_data = sorted_data.fillna(0)\n",
    "sorted_data[\"count\"] = sorted_data[\"count\"].astype(int)\n",
    "query_len = len(config['parametrs']['search_text']) + 40\n",
    "sorted_data[\"href\"] = sorted_data[\"href\"].astype(str).str[0:59].astype(np.str)\n",
    "sorted_data.to_csv('resume/{}_{}_data_sort_{}.csv'.format(file_name, current_day, auth), sep=';', index=False,\n",
    "                   encoding='utf-8-sig')\n",
    "# os.remove(\"data/data.json\")\n",
    "# print(auth)\n"
   ]
  },
  {
   "cell_type": "code",
   "execution_count": 37,
   "metadata": {},
   "outputs": [
    {
     "data": {
      "text/html": [
       "<div>\n",
       "<style scoped>\n",
       "    .dataframe tbody tr th:only-of-type {\n",
       "        vertical-align: middle;\n",
       "    }\n",
       "\n",
       "    .dataframe tbody tr th {\n",
       "        vertical-align: top;\n",
       "    }\n",
       "\n",
       "    .dataframe thead th {\n",
       "        text-align: right;\n",
       "    }\n",
       "</style>\n",
       "<table border=\"1\" class=\"dataframe\">\n",
       "  <thead>\n",
       "    <tr style=\"text-align: right;\">\n",
       "      <th></th>\n",
       "      <th>last_work_place</th>\n",
       "      <th>count</th>\n",
       "    </tr>\n",
       "  </thead>\n",
       "  <tbody>\n",
       "    <tr>\n",
       "      <th>0</th>\n",
       "      <td>ЗАО Бизнес Технолоджи</td>\n",
       "      <td>1</td>\n",
       "    </tr>\n",
       "    <tr>\n",
       "      <th>1</th>\n",
       "      <td>Удаленная работа в США</td>\n",
       "      <td>1</td>\n",
       "    </tr>\n",
       "    <tr>\n",
       "      <th>2</th>\n",
       "      <td>SamiSusami</td>\n",
       "      <td>1</td>\n",
       "    </tr>\n",
       "    <tr>\n",
       "      <th>3</th>\n",
       "      <td>RASA</td>\n",
       "      <td>1</td>\n",
       "    </tr>\n",
       "  </tbody>\n",
       "</table>\n",
       "</div>"
      ],
      "text/plain": [
       "          last_work_place  count\n",
       "0   ЗАО Бизнес Технолоджи      1\n",
       "1  Удаленная работа в США      1\n",
       "2              SamiSusami      1\n",
       "3                    RASA      1"
      ]
     },
     "execution_count": 37,
     "metadata": {},
     "output_type": "execute_result"
    }
   ],
   "source": [
    "import pandas as pd\n",
    "data = pd.read_csv('data/data.csv')\n",
    "data[\"href\"] = 'https://hh.ru' + data[\"href\"]\n",
    "count_company = data[\"last_work_place\"].value_counts()\n",
    "df_count_company = pd.DataFrame({'last_work_place': count_company.index, 'count': count_company.values})\n",
    "df_count_company = df_count_company[\n",
    "    df_count_company.last_work_place != 'Индивидуальное предпринимательство / частная практика / фриланс']\n",
    "df_count_company = df_count_company[df_count_company.last_work_place != 'фриланс']\n",
    "df_count_company = df_count_company[df_count_company.last_work_place != 'Фриланс']\n",
    "df_count_company = df_count_company[df_count_company.last_work_place != \"Freelance\"]\n",
    "df_count_company = df_count_company[df_count_company.last_work_place != \"None\"]\n",
    "df_count_company.head()"
   ]
  },
  {
   "cell_type": "code",
   "execution_count": 38,
   "metadata": {},
   "outputs": [
    {
     "data": {
      "text/html": [
       "<div>\n",
       "<style scoped>\n",
       "    .dataframe tbody tr th:only-of-type {\n",
       "        vertical-align: middle;\n",
       "    }\n",
       "\n",
       "    .dataframe tbody tr th {\n",
       "        vertical-align: top;\n",
       "    }\n",
       "\n",
       "    .dataframe thead th {\n",
       "        text-align: right;\n",
       "    }\n",
       "</style>\n",
       "<table border=\"1\" class=\"dataframe\">\n",
       "  <thead>\n",
       "    <tr style=\"text-align: right;\">\n",
       "      <th></th>\n",
       "      <th>last_work_place</th>\n",
       "      <th>title</th>\n",
       "      <th>href</th>\n",
       "      <th>match_count</th>\n",
       "      <th>all_jobs</th>\n",
       "      <th>citizenship</th>\n",
       "      <th>count</th>\n",
       "    </tr>\n",
       "  </thead>\n",
       "  <tbody>\n",
       "    <tr>\n",
       "      <th>1</th>\n",
       "      <td>RASA</td>\n",
       "      <td>Программист PHP</td>\n",
       "      <td>https://hh.ruhttps://hh.ru/resume/e6b23c4c0008...</td>\n",
       "      <td>1</td>\n",
       "      <td>RASA PHP-программист</td>\n",
       "      <td>Россия</td>\n",
       "      <td>1</td>\n",
       "    </tr>\n",
       "    <tr>\n",
       "      <th>2</th>\n",
       "      <td>ЗАО Бизнес Технолоджи</td>\n",
       "      <td>Junior Frontend-разработчик</td>\n",
       "      <td>https://hh.ruhttps://hh.ru/resume/07563c8f0008...</td>\n",
       "      <td>1</td>\n",
       "      <td>ЗАО Бизнес Технолоджи Помощник программиста</td>\n",
       "      <td>Россия</td>\n",
       "      <td>1</td>\n",
       "    </tr>\n",
       "    <tr>\n",
       "      <th>3</th>\n",
       "      <td>Удаленная работа в США</td>\n",
       "      <td>Frontend-разработчик</td>\n",
       "      <td>https://hh.ruhttps://hh.ru/resume/21f749bb0005...</td>\n",
       "      <td>3</td>\n",
       "      <td>Удаленная работа в США Frontend-разработчик</td>\n",
       "      <td>Россия</td>\n",
       "      <td>1</td>\n",
       "    </tr>\n",
       "  </tbody>\n",
       "</table>\n",
       "</div>"
      ],
      "text/plain": [
       "          last_work_place                        title  \\\n",
       "1                    RASA              Программист PHP   \n",
       "2   ЗАО Бизнес Технолоджи  Junior Frontend-разработчик   \n",
       "3  Удаленная работа в США         Frontend-разработчик   \n",
       "\n",
       "                                                href  match_count  \\\n",
       "1  https://hh.ruhttps://hh.ru/resume/e6b23c4c0008...            1   \n",
       "2  https://hh.ruhttps://hh.ru/resume/07563c8f0008...            1   \n",
       "3  https://hh.ruhttps://hh.ru/resume/21f749bb0005...            3   \n",
       "\n",
       "                                       all_jobs citizenship  count  \n",
       "1                          RASA PHP-программист      Россия      1  \n",
       "2   ЗАО Бизнес Технолоджи Помощник программиста      Россия      1  \n",
       "3   Удаленная работа в США Frontend-разработчик      Россия      1  "
      ]
     },
     "execution_count": 38,
     "metadata": {},
     "output_type": "execute_result"
    }
   ],
   "source": [
    "import numpy as np\n",
    "data_with_count = data.set_index('last_work_place').join(df_count_company.set_index('last_work_place'))\n",
    "sorted_data = data_with_count.sort_values(by=[\"count\"], ascending=False)\n",
    "sorted_data.drop([\"Индивидуальное предпринимательство / частная практика / фриланс\"], inplace=True, errors='ignore')\n",
    "sorted_data.drop([\"Фриланс\"], inplace=True, errors='ignore')\n",
    "sorted_data.drop([\"Freelance\"], inplace=True, errors='ignore')\n",
    "sorted_data.drop([\"фриланс\"], inplace=True, errors='ignore')\n",
    "sorted_data.drop([\"None\"], inplace=True, errors='ignore')\n",
    "sorted_data = sorted_data[(sorted_data.citizenship == 'Россия') | (sorted_data.citizenship == 'Белaрусь') ]\n",
    "#sorted_data_Belorus = sorted_data[sorted_data.citizenship == 'Белорусь']\n",
    "\n",
    "sorted_data.reset_index(inplace=True)\n",
    "sorted_data = sorted_data.fillna(0)\n",
    "sorted_data[\"count\"] = sorted_data[\"count\"].astype(int)\n",
    "sorted_data = sorted_data[sorted_data.match_count != 0]\n",
    "sorted_data = sorted_data[sorted_data['all_jobs'].str.contains(\"\")]\n",
    "\n",
    "#sorted_data = sorted_data[sorted_data.eq(var1).any(1)]\n",
    "sorted_data[\"href\"] = sorted_data[\"href\"].astype(str).str[0:59].astype(np.str)\n",
    "sorted_data.head()"
   ]
  },
  {
   "cell_type": "code",
   "execution_count": 22,
   "metadata": {},
   "outputs": [
    {
     "data": {
      "text/plain": [
       "-1"
      ]
     },
     "execution_count": 22,
     "metadata": {},
     "output_type": "execute_result"
    }
   ],
   "source": [
    "s = 'DfaRAAhbcjs'\n",
    "s.find('RASA')\n",
    "#s.isin(['RASA'])"
   ]
  },
  {
   "cell_type": "code",
   "execution_count": 3,
   "metadata": {},
   "outputs": [
    {
     "data": {
      "text/plain": [
       "Index(['title', 'href', 'match_count', 'all_jobs', 'citizenship', 'count'], dtype='object')"
      ]
     },
     "execution_count": 3,
     "metadata": {},
     "output_type": "execute_result"
    }
   ],
   "source": [
    "sorted_data.columns"
   ]
  },
  {
   "cell_type": "code",
   "execution_count": null,
   "metadata": {},
   "outputs": [],
   "source": []
  }
 ],
 "metadata": {
  "kernelspec": {
   "display_name": "Python 3",
   "language": "python",
   "name": "python3"
  },
  "language_info": {
   "codemirror_mode": {
    "name": "ipython",
    "version": 3
   },
   "file_extension": ".py",
   "mimetype": "text/x-python",
   "name": "python",
   "nbconvert_exporter": "python",
   "pygments_lexer": "ipython3",
   "version": "3.7.7"
  }
 },
 "nbformat": 4,
 "nbformat_minor": 4
}
