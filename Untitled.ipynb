{
 "cells": [
  {
   "cell_type": "code",
   "execution_count": 2,
   "metadata": {},
   "outputs": [
    {
     "data": {
      "text/html": [
       "<div>\n",
       "<style scoped>\n",
       "    .dataframe tbody tr th:only-of-type {\n",
       "        vertical-align: middle;\n",
       "    }\n",
       "\n",
       "    .dataframe tbody tr th {\n",
       "        vertical-align: top;\n",
       "    }\n",
       "\n",
       "    .dataframe thead th {\n",
       "        text-align: right;\n",
       "    }\n",
       "</style>\n",
       "<table border=\"1\" class=\"dataframe\">\n",
       "  <thead>\n",
       "    <tr style=\"text-align: right;\">\n",
       "      <th></th>\n",
       "      <th>title</th>\n",
       "      <th>href</th>\n",
       "      <th>last_work_place</th>\n",
       "      <th>match_count</th>\n",
       "      <th>all_jobs</th>\n",
       "      <th>citizenship</th>\n",
       "    </tr>\n",
       "  </thead>\n",
       "  <tbody>\n",
       "    <tr>\n",
       "      <th>0</th>\n",
       "      <td>Junior Frontend-разработчик</td>\n",
       "      <td>https://hh.ru/resume/07563c8f00082331ff0039ed1...</td>\n",
       "      <td>ЗАО Бизнес Технолоджи</td>\n",
       "      <td>0</td>\n",
       "      <td>['ЗАО Бизнес Технолоджи'  'Помощник программис...</td>\n",
       "      <td>Россия</td>\n",
       "    </tr>\n",
       "    <tr>\n",
       "      <th>1</th>\n",
       "      <td>Frontend developer</td>\n",
       "      <td>https://hh.ru/resume/66acffbd0003e82c2b0039ed1...</td>\n",
       "      <td>Glo Academy</td>\n",
       "      <td>2</td>\n",
       "      <td>['Glo Academy'  'JavaScript Developer (Учебные...</td>\n",
       "      <td>Россия</td>\n",
       "    </tr>\n",
       "    <tr>\n",
       "      <th>2</th>\n",
       "      <td>Security engineer</td>\n",
       "      <td>https://hh.ru/resume/c86ab9490007eabbe90039ed1...</td>\n",
       "      <td>Digital Security</td>\n",
       "      <td>0</td>\n",
       "      <td>['Digital Security'  'Стажер']</td>\n",
       "      <td>Россия</td>\n",
       "    </tr>\n",
       "    <tr>\n",
       "      <th>3</th>\n",
       "      <td>HTML-верстальщик</td>\n",
       "      <td>https://hh.ru/resume/1c3c282600081d97000039ed1...</td>\n",
       "      <td>Tранснефть</td>\n",
       "      <td>0</td>\n",
       "      <td>['Tранснефть'  'Младший аналитик']</td>\n",
       "      <td>Россия</td>\n",
       "    </tr>\n",
       "    <tr>\n",
       "      <th>4</th>\n",
       "      <td>Frontend-разработчик</td>\n",
       "      <td>https://hh.ru/resume/21f749bb00058c181b0039ed1...</td>\n",
       "      <td>Удаленная работа в США</td>\n",
       "      <td>2</td>\n",
       "      <td>['Удаленная работа в США'  'Frontend-разработч...</td>\n",
       "      <td>Россия</td>\n",
       "    </tr>\n",
       "  </tbody>\n",
       "</table>\n",
       "</div>"
      ],
      "text/plain": [
       "                         title  \\\n",
       "0  Junior Frontend-разработчик   \n",
       "1           Frontend developer   \n",
       "2            Security engineer   \n",
       "3             HTML-верстальщик   \n",
       "4         Frontend-разработчик   \n",
       "\n",
       "                                                href         last_work_place  \\\n",
       "0  https://hh.ru/resume/07563c8f00082331ff0039ed1...   ЗАО Бизнес Технолоджи   \n",
       "1  https://hh.ru/resume/66acffbd0003e82c2b0039ed1...             Glo Academy   \n",
       "2  https://hh.ru/resume/c86ab9490007eabbe90039ed1...        Digital Security   \n",
       "3  https://hh.ru/resume/1c3c282600081d97000039ed1...              Tранснефть   \n",
       "4  https://hh.ru/resume/21f749bb00058c181b0039ed1...  Удаленная работа в США   \n",
       "\n",
       "   match_count                                           all_jobs  citizenship  \n",
       "0            0  ['ЗАО Бизнес Технолоджи'  'Помощник программис...       Россия  \n",
       "1            2  ['Glo Academy'  'JavaScript Developer (Учебные...       Россия  \n",
       "2            0                     ['Digital Security'  'Стажер']       Россия  \n",
       "3            0                 ['Tранснефть'  'Младший аналитик']       Россия  \n",
       "4            2  ['Удаленная работа в США'  'Frontend-разработч...       Россия  "
      ]
     },
     "execution_count": 2,
     "metadata": {},
     "output_type": "execute_result"
    }
   ],
   "source": [
    "import pandas as pd\n",
    "data = pd.read_csv('data/data.csv')\n",
    "data.head()"
   ]
  },
  {
   "cell_type": "code",
   "execution_count": 10,
   "metadata": {},
   "outputs": [
    {
     "data": {
      "text/plain": [
       "Index(['title', 'href', 'last_work_place'], dtype='object')"
      ]
     },
     "execution_count": 10,
     "metadata": {},
     "output_type": "execute_result"
    }
   ],
   "source": [
    "data.columns"
   ]
  },
  {
   "cell_type": "code",
   "execution_count": 6,
   "metadata": {},
   "outputs": [
    {
     "ename": "AttributeError",
     "evalue": "'DataFrame' object has no attribute 'href'",
     "output_type": "error",
     "traceback": [
      "\u001b[1;31m---------------------------------------------------------------------------\u001b[0m",
      "\u001b[1;31mAttributeError\u001b[0m                            Traceback (most recent call last)",
      "\u001b[1;32m<ipython-input-6-7e32ff5cae61>\u001b[0m in \u001b[0;36m<module>\u001b[1;34m\u001b[0m\n\u001b[1;32m----> 1\u001b[1;33m \u001b[0mdata\u001b[0m\u001b[1;33m.\u001b[0m\u001b[0mhref\u001b[0m\u001b[1;33m\u001b[0m\u001b[1;33m\u001b[0m\u001b[0m\n\u001b[0m",
      "\u001b[1;32mC:\\ProgramData\\Anaconda3\\lib\\site-packages\\pandas\\core\\generic.py\u001b[0m in \u001b[0;36m__getattr__\u001b[1;34m(self, name)\u001b[0m\n\u001b[0;32m   5272\u001b[0m             \u001b[1;32mif\u001b[0m \u001b[0mself\u001b[0m\u001b[1;33m.\u001b[0m\u001b[0m_info_axis\u001b[0m\u001b[1;33m.\u001b[0m\u001b[0m_can_hold_identifiers_and_holds_name\u001b[0m\u001b[1;33m(\u001b[0m\u001b[0mname\u001b[0m\u001b[1;33m)\u001b[0m\u001b[1;33m:\u001b[0m\u001b[1;33m\u001b[0m\u001b[1;33m\u001b[0m\u001b[0m\n\u001b[0;32m   5273\u001b[0m                 \u001b[1;32mreturn\u001b[0m \u001b[0mself\u001b[0m\u001b[1;33m[\u001b[0m\u001b[0mname\u001b[0m\u001b[1;33m]\u001b[0m\u001b[1;33m\u001b[0m\u001b[1;33m\u001b[0m\u001b[0m\n\u001b[1;32m-> 5274\u001b[1;33m             \u001b[1;32mreturn\u001b[0m \u001b[0mobject\u001b[0m\u001b[1;33m.\u001b[0m\u001b[0m__getattribute__\u001b[0m\u001b[1;33m(\u001b[0m\u001b[0mself\u001b[0m\u001b[1;33m,\u001b[0m \u001b[0mname\u001b[0m\u001b[1;33m)\u001b[0m\u001b[1;33m\u001b[0m\u001b[1;33m\u001b[0m\u001b[0m\n\u001b[0m\u001b[0;32m   5275\u001b[0m \u001b[1;33m\u001b[0m\u001b[0m\n\u001b[0;32m   5276\u001b[0m     \u001b[1;32mdef\u001b[0m \u001b[0m__setattr__\u001b[0m\u001b[1;33m(\u001b[0m\u001b[0mself\u001b[0m\u001b[1;33m,\u001b[0m \u001b[0mname\u001b[0m\u001b[1;33m:\u001b[0m \u001b[0mstr\u001b[0m\u001b[1;33m,\u001b[0m \u001b[0mvalue\u001b[0m\u001b[1;33m)\u001b[0m \u001b[1;33m->\u001b[0m \u001b[1;32mNone\u001b[0m\u001b[1;33m:\u001b[0m\u001b[1;33m\u001b[0m\u001b[1;33m\u001b[0m\u001b[0m\n",
      "\u001b[1;31mAttributeError\u001b[0m: 'DataFrame' object has no attribute 'href'"
     ]
    }
   ],
   "source": [
    "data.href"
   ]
  },
  {
   "cell_type": "code",
   "execution_count": null,
   "metadata": {},
   "outputs": [],
   "source": []
  }
 ],
 "metadata": {
  "kernelspec": {
   "display_name": "Python 3",
   "language": "python",
   "name": "python3"
  },
  "language_info": {
   "codemirror_mode": {
    "name": "ipython",
    "version": 3
   },
   "file_extension": ".py",
   "mimetype": "text/x-python",
   "name": "python",
   "nbconvert_exporter": "python",
   "pygments_lexer": "ipython3",
   "version": "3.7.7"
  }
 },
 "nbformat": 4,
 "nbformat_minor": 4
}
